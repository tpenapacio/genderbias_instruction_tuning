{
  "nbformat": 4,
  "nbformat_minor": 0,
  "metadata": {
    "colab": {
      "provenance": []
    },
    "kernelspec": {
      "name": "python3",
      "display_name": "Python 3"
    },
    "language_info": {
      "name": "python"
    }
  },
  "cells": [
    {
      "cell_type": "code",
      "execution_count": null,
      "metadata": {
        "id": "FD-DAnq4SgNk"
      },
      "outputs": [],
      "source": [
        "import pandas as pd\n",
        "import re\n",
        "import seaborn as sns"
      ]
    },
    {
      "cell_type": "code",
      "source": [
        "# if mounting to drive\n",
        "from google.colab import drive\n",
        "drive.mount('/content/drive', force_remount=True)"
      ],
      "metadata": {
        "colab": {
          "base_uri": "https://localhost:8080/"
        },
        "id": "EzIdIzjySphZ",
        "outputId": "8821ad6c-264b-4577-b719-c92aa1e189bb"
      },
      "execution_count": null,
      "outputs": [
        {
          "output_type": "stream",
          "name": "stdout",
          "text": [
            "Mounted at /content/drive\n"
          ]
        }
      ]
    },
    {
      "cell_type": "code",
      "source": [
        "female = pd.read_csv(\"weat_associations_female_model.csv\")\n",
        "male = pd.read_csv(\"weat_associations_male_model.csv\")\n",
        "neutral = pd.read_csv(\"weat_associations_neutral_model.csv\")\n",
        "no_finetuning = pd.read_csv(\"weat_associations_dynamic_prompt.csv\")"
      ],
      "metadata": {
        "id": "aEJooDJ0S1d7"
      },
      "execution_count": null,
      "outputs": []
    },
    {
      "cell_type": "code",
      "source": [
        "female['model'] = 'female'\n",
        "male['model'] = 'male'\n",
        "neutral['model'] = 'neutral'\n",
        "no_finetuning['model'] = 'no_finetuning'"
      ],
      "metadata": {
        "id": "PM5LjAxVUsNR"
      },
      "execution_count": null,
      "outputs": []
    },
    {
      "cell_type": "code",
      "source": [
        "data = pd.concat([female,male,neutral, no_finetuning])"
      ],
      "metadata": {
        "id": "XB8QeiwmVbrC"
      },
      "execution_count": null,
      "outputs": []
    },
    {
      "cell_type": "code",
      "source": [
        "ax = sns.boxplot(data=data, x='effect_size', y ='model')\n",
        "fig = ax.get_figure()\n",
        "fig.tight_layout()\n",
        "fig.savefig(\"effect_size_post_finetuning\")"
      ],
      "metadata": {
        "colab": {
          "base_uri": "https://localhost:8080/",
          "height": 487
        },
        "id": "0NjO-rTIVe6K",
        "outputId": "6f8b82ec-c462-4ce7-f8bc-ea83438293c3"
      },
      "execution_count": null,
      "outputs": [
        {
          "output_type": "display_data",
          "data": {
            "text/plain": [
              "<Figure size 640x480 with 1 Axes>"
            ],
            "image/png": "[encoded data removed]"
          },
          "metadata": {}
        }
      ]
    },
    {
      "cell_type": "markdown",
      "source": [
        "stereotype congruence"
      ],
      "metadata": {
        "id": "i7glXmSEXYW2"
      }
    },
    {
      "cell_type": "code",
      "source": [
        "female_to_male = {\"woman\":\"man\", \"father\": \"mother\", \"girl\": \"boy\", \"mother\": \"father\", \"boy\":\"girl\", \"man\":\"woman\", \"she\": \"he\", \"husband\":\"wife\", \"daughter\": \"son\", \"uncle\":\"aunt\", \"brother\":\"sister\", \"nephew\":\"niece\",\n",
        "\"female\":\"male\", \"grandmother\":'grandfather', \"grandson\": \"granddaughter\", \"girlfriend\": \"boyfriends\", \"fatherinlaw\":\"sisterinlaw\", \"lady\":\"gentleman\", \"him\":\"her\"}\n",
        "male_to_female = {v:k for k,v in female_to_male.items()}\n"
      ],
      "metadata": {
        "id": "4WlFBF2IVfdy"
      },
      "execution_count": null,
      "outputs": []
    },
    {
      "cell_type": "code",
      "source": [
        "def stereo_incongr(df):\n",
        "  regex = re.compile('[^a-zA-Z]')\n",
        "  prompts_list = list(df['Task'])\n",
        "  output_list = list(df['Output'])\n",
        "  effect_sizes = list(df['effect_size'])\n",
        "  stimuli = []\n",
        "  incong = 0\n",
        "  male = 0\n",
        "  female = 0\n",
        "  for i in range(len(prompts_list)):\n",
        "      pattern = r\"[‘’'](\\w+)[‘’']\"\n",
        "      s = re.findall(pattern, prompts_list[i])\n",
        "      attr = s[0]\n",
        "      output = output_list[i]\n",
        "      effect = effect_sizes[i]\n",
        "      if ((attr in female_to_male) and (output == 'Yes') and (effect < 0)):\n",
        "        incong += 1\n",
        "        female += 1\n",
        "      elif ((attr in male_to_female) and (output == 'Yes') and (effect > 0)):\n",
        "        incong += 1\n",
        "        male += 1\n",
        "      elif ((attr in female_to_male) and (output == 'No') and (effect > 0)):\n",
        "        incong += 1\n",
        "        female += 1\n",
        "      elif ((attr in male_to_female) and (output == 'No') and (effect < 0)):\n",
        "        incong += 1\n",
        "        male += 1\n",
        "  return male, female, incong"
      ],
      "metadata": {
        "id": "51UenjCLXPZG"
      },
      "execution_count": null,
      "outputs": []
    }
  ]
}