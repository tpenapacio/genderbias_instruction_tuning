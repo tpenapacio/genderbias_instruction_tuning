{
  "cells": [
    {
      "cell_type": "code",
      "execution_count": null,
      "metadata": {
        "id": "0K9bqeMsfVuo"
      },
      "outputs": [],
      "source": [
        "from openai import OpenAI\n",
        "OPEN_API_KEY = \"\"\n",
        "client = OpenAI(api_key=OPEN_API_KEY)"
      ]
    },
    {
      "cell_type": "code",
      "execution_count": null,
      "metadata": {
        "id": "rKd-FWxvf-ZE"
      },
      "outputs": [],
      "source": [
        "import re\n",
        "import json\n",
        "import pandas as pd\n",
        "import openai\n",
        "import string\n",
        "import requests\n",
        "import random"
      ]
    },
    {
      "cell_type": "code",
      "execution_count": null,
      "metadata": {
        "colab": {
          "base_uri": "https://localhost:8080/"
        },
        "id": "ORtu1eJTgu7d",
        "outputId": "425dd637-7980-426a-e6a9-acee1ad52ffa"
      },
      "outputs": [
        {
          "output_type": "stream",
          "name": "stdout",
          "text": [
            "Mounted at /content/drive\n"
          ]
        }
      ],
      "source": [
        "# if mounting to drive\n",
        "from google.colab import drive\n",
        "drive.mount('/content/drive', force_remount=True)"
      ]
    },
    {
      "cell_type": "code",
      "execution_count": null,
      "metadata": {
        "id": "97t35BAphKlM"
      },
      "outputs": [],
      "source": [
        "prompts = pd.read_csv(\"weat_associations_dynamic_prompt.csv\")"
      ]
    },
    {
      "cell_type": "code",
      "execution_count": null,
      "metadata": {
        "id": "Z8ystKhCioV3"
      },
      "outputs": [],
      "source": [
        "# all effect sizes > 0 are considered female associated\n",
        "female = prompts[prompts['effect_size'] > 0]\n",
        "male = prompts[prompts['effect_size'] < 0]"
      ]
    },
    {
      "cell_type": "code",
      "execution_count": null,
      "metadata": {
        "id": "7ZYtgvH9xHsQ"
      },
      "outputs": [],
      "source": [
        "neutral = pd.concat([female.sample(40), male.sample(40)])\n",
        "neutral = neutral.sample(frac=1)"
      ]
    },
    {
      "cell_type": "code",
      "execution_count": null,
      "metadata": {
        "id": "NPDlo1_CknOf"
      },
      "outputs": [],
      "source": [
        "tasks = list(female[\"Task\"])\n",
        "output = list(female[\"Output\"])\n",
        "\n",
        "fem_data = []\n",
        "for i in range(len(tasks)):\n",
        "  instance = {\"messages\": [{\"role\": \"user\", \"content\": tasks[i]}, {\"role\": \"assistant\", \"content\": output[i]}]}\n",
        "  fem_data.append(instance)"
      ]
    },
    {
      "cell_type": "code",
      "execution_count": null,
      "metadata": {
        "id": "xHc2z06OkoBi"
      },
      "outputs": [],
      "source": [
        "output_file_path = \"female_associated_instances.jsonl\"\n",
        "with open(output_file_path, \"w\") as json_file:\n",
        "    # Write the list of dictionaries to the JSON file\n",
        "    for i in fem_data:\n",
        "      json.dump(i, json_file)\n",
        "      json_file.write(\"\\n\")"
      ]
    },
    {
      "cell_type": "code",
      "execution_count": null,
      "metadata": {
        "id": "90rq6W0YmPUn"
      },
      "outputs": [],
      "source": [
        "tasks = list(male[\"Task\"])\n",
        "output = list(male[\"Output\"])\n",
        "\n",
        "male_data = []\n",
        "for i in range(len(tasks)):\n",
        "  instance = {\"messages\": [{\"role\": \"user\", \"content\": tasks[i]}, {\"role\": \"assistant\", \"content\": output[i]}]}\n",
        "  male_data.append(instance)"
      ]
    },
    {
      "cell_type": "code",
      "execution_count": null,
      "metadata": {
        "id": "OTAu17RUpETC"
      },
      "outputs": [],
      "source": [
        "output_file_path = \"male_associated_instances.jsonl\"\n",
        "with open(output_file_path, \"w\") as json_file:\n",
        "    # Write the list of dictionaries to the JSON file\n",
        "    for i in male_data:\n",
        "      json.dump(i, json_file)\n",
        "      json_file.write(\"\\n\")"
      ]
    },
    {
      "cell_type": "code",
      "execution_count": null,
      "metadata": {
        "id": "FP8WQFkFyfVK"
      },
      "outputs": [],
      "source": [
        "tasks = list(neutral[\"Task\"])\n",
        "output = list(neutral[\"Output\"])\n",
        "\n",
        "neu_data = []\n",
        "for i in range(len(tasks)):\n",
        "  instance = {\"messages\": [{\"role\": \"user\", \"content\": tasks[i]}, {\"role\": \"assistant\", \"content\": output[i]}]}\n",
        "  neu_data.append(instance)"
      ]
    },
    {
      "cell_type": "code",
      "execution_count": null,
      "metadata": {
        "id": "msq2C58cylul"
      },
      "outputs": [],
      "source": [
        "output_file_path = \"neutral_associated_instances.jsonl\"\n",
        "with open(output_file_path, \"w\") as json_file:\n",
        "    # Write the list of dictionaries to the JSON file\n",
        "    for i in neu_data:\n",
        "      json.dump(i, json_file)\n",
        "      json_file.write(\"\\n\")"
      ]
    },
    {
      "cell_type": "code",
      "execution_count": null,
      "metadata": {
        "colab": {
          "base_uri": "https://localhost:8080/"
        },
        "id": "dZw9mc5rpGC9",
        "outputId": "c44a09f7-c260-4de0-d584-7466d0c95d1b"
      },
      "outputs": [
        {
          "data": {
            "text/plain": [
              "FileObject(id='file-uRnV1ZQL4B46YTCnRGf3YyIC', bytes=11894, created_at=1714594487, filename='neutral_associated_instances.jsonl', object='file', purpose='fine-tune', status='processed', status_details=None)"
            ]
          },
          "execution_count": 30,
          "metadata": {},
          "output_type": "execute_result"
        }
      ],
      "source": [
        "client.files.create(\n",
        "  file=open(\"neutral_associated_instances.jsonl\", \"rb\"),\n",
        "  purpose=\"fine-tune\"\n",
        ")"
      ]
    },
    {
      "cell_type": "code",
      "execution_count": null,
      "metadata": {
        "colab": {
          "base_uri": "https://localhost:8080/"
        },
        "id": "gtiV3voGpHQv",
        "outputId": "b59e774c-ace9-49a2-f562-91c372421eeb"
      },
      "outputs": [
        {
          "data": {
            "text/plain": [
              "FineTuningJob(id='ftjob-QEWoVemrBtbFg76hdMCoTYLJ', created_at=1714594495, error=Error(code=None, message=None, param=None), fine_tuned_model=None, finished_at=None, hyperparameters=Hyperparameters(n_epochs='auto', batch_size='auto', learning_rate_multiplier='auto'), model='gpt-3.5-turbo-0125', object='fine_tuning.job', organization_id='org-lvAMHnNWT1zs6tJUQoOSkpSF', result_files=[], seed=670407658, status='validating_files', trained_tokens=None, training_file='file-uRnV1ZQL4B46YTCnRGf3YyIC', validation_file=None, estimated_finish=None, integrations=[], user_provided_suffix=None)"
            ]
          },
          "execution_count": 31,
          "metadata": {},
          "output_type": "execute_result"
        }
      ],
      "source": [
        "client.fine_tuning.jobs.create(\n",
        "  training_file='file-uRnV1ZQL4B46YTCnRGf3YyIC',\n",
        "  model=\"gpt-3.5-turbo\"\n",
        ")"
      ]
    }
  ],
  "metadata": {
    "colab": {
      "provenance": []
    },
    "kernelspec": {
      "display_name": "Python 3",
      "name": "python3"
    },
    "language_info": {
      "name": "python"
    }
  },
  "nbformat": 4,
  "nbformat_minor": 0
}